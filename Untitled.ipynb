{
 "cells": [
  {
   "cell_type": "code",
   "execution_count": 4,
   "id": "7be04fc5",
   "metadata": {},
   "outputs": [
    {
     "data": {
      "image/png": "[encoded data removed]",
      "text/plain": [
       "<Figure size 432x288 with 1 Axes>"
      ]
     },
     "metadata": {
      "needs_background": "light"
     },
     "output_type": "display_data"
    }
   ],
   "source": [
    "import numpy as np\n",
    "import matplotlib.pyplot as plt\n",
    "\n",
    "N = np.loadtxt(\"MobyDickWords.txt\")\n",
    "\n",
    "r = np.arange(1,len(N)+1,1)\n",
    "plt.loglog(r,N,'.')\n",
    "plt.xlabel('r ')\n",
    "plt.ylabel('N')\n",
    "plt.title('loglog plot')\n",
    "plt.grid()"
   ]
  },
  {
   "cell_type": "code",
   "execution_count": null,
   "id": "99d8442e",
   "metadata": {},
   "outputs": [],
   "source": []
  },
  {
   "cell_type": "code",
   "execution_count": 5,
   "id": "e19fd241",
   "metadata": {},
   "outputs": [],
   "source": [
    "# We apply log10 on both sides of the original equation, and we will get:\n",
    "# np.log10(n) = np.log10(c) + np.log10(r) * s\n",
    "# we note it as  y  = b + k*x\n",
    "# then the following equations will hold:"
   ]
  },
  {
   "cell_type": "code",
   "execution_count": 6,
   "id": "d1d2d534",
   "metadata": {},
   "outputs": [],
   "source": [
    "y = np.log10(N)\n",
    "x = np.log10(r)\n",
    "# we only need to use least squared method to figure out k and b."
   ]
  },
  {
   "cell_type": "code",
   "execution_count": 7,
   "id": "eb60736f",
   "metadata": {},
   "outputs": [
    {
     "name": "stdout",
     "output_type": "stream",
     "text": [
      "estimator of c is 43477.74811394603\n",
      "estimator of s is -1.1132751814736133\n"
     ]
    }
   ],
   "source": [
    "# construct A\n",
    "A = np.vstack([x,np.ones(len(x))]).T\n",
    "# solve the least squared problem\n",
    "reslut=np.linalg.lstsq(A, y, rcond=None)\n",
    "# get the answer of k and b\n",
    "k ,b= reslut[0]\n",
    "\n",
    "\n",
    "# k = s\n",
    "s = k\n",
    "# b = np.log10(c)\n",
    "c = 10**b\n",
    "\n",
    "print('estimator of c is',c)\n",
    "print('estimator of s is',s)\n"
   ]
  },
  {
   "cell_type": "code",
   "execution_count": null,
   "id": "3195c8b9",
   "metadata": {},
   "outputs": [],
   "source": []
  },
  {
   "cell_type": "code",
   "execution_count": null,
   "id": "35c1d18a",
   "metadata": {},
   "outputs": [],
   "source": []
  },
  {
   "cell_type": "code",
   "execution_count": null,
   "id": "52bf7b0f",
   "metadata": {},
   "outputs": [],
   "source": []
  },
  {
   "cell_type": "code",
   "execution_count": null,
   "id": "f7828e7e",
   "metadata": {},
   "outputs": [],
   "source": []
  }
 ],
 "metadata": {
  "kernelspec": {
   "display_name": "Python 3 (ipykernel)",
   "language": "python",
   "name": "python3"
  },
  "language_info": {
   "codemirror_mode": {
    "name": "ipython",
    "version": 3
   },
   "file_extension": ".py",
   "mimetype": "text/x-python",
   "name": "python",
   "nbconvert_exporter": "python",
   "pygments_lexer": "ipython3",
   "version": "3.9.5"
  }
 },
 "nbformat": 4,
 "nbformat_minor": 5
}
