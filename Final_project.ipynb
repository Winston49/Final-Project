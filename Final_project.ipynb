{
  "metadata": {
    "language_info": {
      "codemirror_mode": {
        "name": "python",
        "version": 3
      },
      "file_extension": ".py",
      "mimetype": "text/x-python",
      "name": "python",
      "nbconvert_exporter": "python",
      "pygments_lexer": "ipython3",
      "version": "3.8"
    },
    "kernelspec": {
      "name": "python",
      "display_name": "Python (Pyodide)",
      "language": "python"
    }
  },
  "nbformat_minor": 4,
  "nbformat": 4,
  "cells": [
    {
      "cell_type": "code",
      "source": "### 𝜌_𝑀𝑑𝑀⁄𝑑𝑡 = μ − ε(𝑀 − 𝑀0)###\n\n###𝜌_𝑀 = 𝜌F𝜌L/(𝜌L+(𝜌F-𝜌L)p)###\n\n###mu = I-E(F(M0),L(M0))###\n\n###ε = dE/dM|M=M0###\n\n###𝜌F=39.5 MJ/kg, 𝜌G = 17.6 MJ/kg, 𝜌P = 19.7 MJ/k###\n\n###𝜌L = 𝜌P/(1+hP)= 7.6 MJ/kg###\n\n",
      "metadata": {
        "trusted": true
      },
      "execution_count": null,
      "outputs": []
    },
    {
      "cell_type": "code",
      "source": "import math\nfrom scipy.integrate import odeint\nimport matplotlib.pyplot as plt\nimport numpy as np",
      "metadata": {
        "trusted": true
      },
      "execution_count": null,
      "outputs": []
    },
    {
      "cell_type": "code",
      "source": "A0 = 18\na = 0.1\nM0 = 75\n# m = 11.88 # recommended PA amount\n# m = 11 # second PA amount\nm = 9  # first PA amount\nI0 = 2500\ndI = 700\nI1 = dI+I0\n# aM = 293, aF = 248, pM = 0.4330, pF = 0.4356, yM = 5.92, yF = 5.09\n\n# For male\nai = 293\npi = 0.4330\nyi = 5.92\n\nfinal = 14 #days\nr = 0.59\nC = -2500\n\nDIT = 0.077*I0\nPA = m*M0\nRMR = (1-a)*(ai*M0**pi-yi*(A0+final/365))\nNEAT = r/(1-r)*(DIT+PA+RMR) + C\ntotalE = DIT+PA+RMR+NEAT\n\n\nDIT2 = 0.077*I1\nPA2 = m*M0\nRMR2 = (1-a)*(ai*M0**pi-yi*(A0+final/365))\nNEAT2 = r/(1-r)*(DIT2+PA2+RMR2) + C\ntotalE2 = DIT2+PA2+RMR2+NEAT2\n\n\nprint(\"DIT   |   PA   |    RMR     |     NEAT     |    TOTAL: \")\nprint(round(DIT,3),\"\\t\",round(PA,3),\"\\t\",round(RMR,3),\"\\t\",round(NEAT,3),\"\\t\",round(totalE,3))\nprint(round(DIT/totalE,3),\"\\t\",round(PA/totalE,3),\"\\t\",round(RMR/totalE,3),\"\\t\\t\",round(NEAT/totalE,3),\"\\t\\t\",round(totalE/totalE,3))\n\n\nprint(\"\\n\\nDIT2   |   PA2   |    RMR2     |     NEAT2     |    TOTAL2: \")\nprint(round(DIT2,3),\"\\t\",round(PA2,3),\"\\t\",round(RMR2,3),\"\\t\",round(NEAT2,3),\"\\t\",round(totalE2,3))\nprint(round(DIT2/totalE2,3),\"\\t\",round(PA2/totalE2,3),\"\\t\",round(RMR2/totalE2,3),\"\\t\\t\",round(NEAT2/totalE2,3),\"\\t\\t\",round(totalE2/totalE2,3))",
      "metadata": {
        "trusted": true
      },
      "execution_count": null,
      "outputs": []
    },
    {
      "cell_type": "code",
      "source": "for i in range(100):\n    print(i, i**2)",
      "metadata": {
        "scrolled": true,
        "trusted": true
      },
      "execution_count": null,
      "outputs": []
    },
    {
      "cell_type": "code",
      "source": "",
      "metadata": {},
      "execution_count": null,
      "outputs": []
    }
  ]
}